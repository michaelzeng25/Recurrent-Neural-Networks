{
 "cells": [
  {
   "cell_type": "code",
   "execution_count": 1,
   "metadata": {},
   "outputs": [],
   "source": [
    "import pandas as pd\n",
    "import seaborn as sns\n",
    "import numpy as np\n",
    "import matplotlib.pyplot as plt\n",
    "%matplotlib inline"
   ]
  },
  {
   "cell_type": "code",
   "execution_count": 102,
   "metadata": {},
   "outputs": [
    {
     "data": {
      "text/html": [
       "<div>\n",
       "<style scoped>\n",
       "    .dataframe tbody tr th:only-of-type {\n",
       "        vertical-align: middle;\n",
       "    }\n",
       "\n",
       "    .dataframe tbody tr th {\n",
       "        vertical-align: top;\n",
       "    }\n",
       "\n",
       "    .dataframe thead th {\n",
       "        text-align: right;\n",
       "    }\n",
       "</style>\n",
       "<table border=\"1\" class=\"dataframe\">\n",
       "  <thead>\n",
       "    <tr style=\"text-align: right;\">\n",
       "      <th></th>\n",
       "      <th>Date</th>\n",
       "      <th>Open</th>\n",
       "      <th>High</th>\n",
       "      <th>Low</th>\n",
       "      <th>Close</th>\n",
       "      <th>Volume</th>\n",
       "    </tr>\n",
       "  </thead>\n",
       "  <tbody>\n",
       "    <tr>\n",
       "      <th>0</th>\n",
       "      <td>1/3/2012</td>\n",
       "      <td>325.25</td>\n",
       "      <td>332.83</td>\n",
       "      <td>324.97</td>\n",
       "      <td>663.59</td>\n",
       "      <td>7,380,500</td>\n",
       "    </tr>\n",
       "    <tr>\n",
       "      <th>1</th>\n",
       "      <td>1/4/2012</td>\n",
       "      <td>331.27</td>\n",
       "      <td>333.87</td>\n",
       "      <td>329.08</td>\n",
       "      <td>666.45</td>\n",
       "      <td>5,749,400</td>\n",
       "    </tr>\n",
       "    <tr>\n",
       "      <th>2</th>\n",
       "      <td>1/5/2012</td>\n",
       "      <td>329.83</td>\n",
       "      <td>330.75</td>\n",
       "      <td>326.89</td>\n",
       "      <td>657.21</td>\n",
       "      <td>6,590,300</td>\n",
       "    </tr>\n",
       "    <tr>\n",
       "      <th>3</th>\n",
       "      <td>1/6/2012</td>\n",
       "      <td>328.34</td>\n",
       "      <td>328.77</td>\n",
       "      <td>323.68</td>\n",
       "      <td>648.24</td>\n",
       "      <td>5,405,900</td>\n",
       "    </tr>\n",
       "    <tr>\n",
       "      <th>4</th>\n",
       "      <td>1/9/2012</td>\n",
       "      <td>322.04</td>\n",
       "      <td>322.29</td>\n",
       "      <td>309.46</td>\n",
       "      <td>620.76</td>\n",
       "      <td>11,688,800</td>\n",
       "    </tr>\n",
       "  </tbody>\n",
       "</table>\n",
       "</div>"
      ],
      "text/plain": [
       "       Date    Open    High     Low   Close      Volume\n",
       "0  1/3/2012  325.25  332.83  324.97  663.59   7,380,500\n",
       "1  1/4/2012  331.27  333.87  329.08  666.45   5,749,400\n",
       "2  1/5/2012  329.83  330.75  326.89  657.21   6,590,300\n",
       "3  1/6/2012  328.34  328.77  323.68  648.24   5,405,900\n",
       "4  1/9/2012  322.04  322.29  309.46  620.76  11,688,800"
      ]
     },
     "execution_count": 102,
     "metadata": {},
     "output_type": "execute_result"
    }
   ],
   "source": [
    "df_train=pd.read_csv('Google_Stock_Price_Train.csv')\n",
    "df_train.head()"
   ]
  },
  {
   "cell_type": "code",
   "execution_count": 103,
   "metadata": {},
   "outputs": [
    {
     "data": {
      "text/plain": [
       "(1258, 1)"
      ]
     },
     "execution_count": 103,
     "metadata": {},
     "output_type": "execute_result"
    }
   ],
   "source": [
    "training_set=df_train.iloc[:,1:2].values # take all the rows of the column 'Open', and .values will change it to a numpy array\n",
    "training_set.shape"
   ]
  },
  {
   "cell_type": "markdown",
   "metadata": {},
   "source": [
    "# feature scaling "
   ]
  },
  {
   "cell_type": "code",
   "execution_count": 7,
   "metadata": {},
   "outputs": [],
   "source": [
    "# when build an RNN and use sigmoid as the activation function, it is recommended to use normalization\n",
    "#  Xnorm = (X-min(X)/(max(X)-min(x)), where Xnorm will be between 0 and 1\n",
    "# so we use MinMaxScaler library"
   ]
  },
  {
   "cell_type": "code",
   "execution_count": 84,
   "metadata": {},
   "outputs": [],
   "source": [
    "from sklearn.preprocessing import MinMaxScaler"
   ]
  },
  {
   "cell_type": "code",
   "execution_count": 85,
   "metadata": {},
   "outputs": [],
   "source": [
    "sc=MinMaxScaler()"
   ]
  },
  {
   "cell_type": "code",
   "execution_count": 104,
   "metadata": {},
   "outputs": [],
   "source": [
    "training_set_sc = sc.fit_transform(training_set)# fit each value into the Xnorm formula and get the result"
   ]
  },
  {
   "cell_type": "code",
   "execution_count": 87,
   "metadata": {},
   "outputs": [
    {
     "name": "stdout",
     "output_type": "stream",
     "text": [
      "816.68\n",
      "279.12\n",
      "[ 325.25]\n",
      "0.08581367661284321\n"
     ]
    }
   ],
   "source": [
    "print (training_set.max())\n",
    "print (training_set.min())\n",
    "print(training_set[0])\n",
    "print((325.25-279.12)/(816.68-279.12))"
   ]
  },
  {
   "cell_type": "code",
   "execution_count": 88,
   "metadata": {},
   "outputs": [],
   "source": [
    "# matched with the first value below"
   ]
  },
  {
   "cell_type": "code",
   "execution_count": 89,
   "metadata": {},
   "outputs": [
    {
     "data": {
      "text/plain": [
       "array([[ 0.08581368],\n",
       "       [ 0.09701243],\n",
       "       [ 0.09433366],\n",
       "       ..., \n",
       "       [ 0.95725128],\n",
       "       [ 0.93796041],\n",
       "       [ 0.93688146]])"
      ]
     },
     "execution_count": 89,
     "metadata": {},
     "output_type": "execute_result"
    }
   ],
   "source": [
    "training_set_sc"
   ]
  },
  {
   "cell_type": "code",
   "execution_count": 90,
   "metadata": {},
   "outputs": [],
   "source": [
    "# will use every 60 days' stock price to predict the next one. (3 months should be enough, later experiment other #)"
   ]
  },
  {
   "cell_type": "code",
   "execution_count": 91,
   "metadata": {},
   "outputs": [
    {
     "data": {
      "text/plain": [
       "array([ 0.08581368,  0.09701243,  0.09433366, ...,  0.95725128,\n",
       "        0.93796041,  0.93688146])"
      ]
     },
     "execution_count": 91,
     "metadata": {},
     "output_type": "execute_result"
    }
   ],
   "source": [
    "training_set_sc[:,0]"
   ]
  },
  {
   "cell_type": "code",
   "execution_count": 105,
   "metadata": {},
   "outputs": [],
   "source": [
    "x_train = []\n",
    "y_train = []\n",
    "for i in range(60,1258):\n",
    "    x_train.append(training_set_sc[i-60:i,0]) # index 0 to 59.  (,0)='Open' column\n",
    "    y_train.append(training_set_sc[i,0]) # i is excluded from above\n",
    "# 0-59 to predict 60, then 1-60 to predict 61, and so on\n",
    "# x_train[0]=60 rows, [1] also and so on\n",
    "# y_train[0] = a single value"
   ]
  },
  {
   "cell_type": "code",
   "execution_count": 81,
   "metadata": {},
   "outputs": [
    {
     "data": {
      "text/plain": [
       "0.086278740977751345"
      ]
     },
     "execution_count": 81,
     "metadata": {},
     "output_type": "execute_result"
    }
   ],
   "source": [
    "x_train[60][0] # every index has 60 rows. "
   ]
  },
  {
   "cell_type": "code",
   "execution_count": 77,
   "metadata": {},
   "outputs": [
    {
     "data": {
      "text/plain": [
       "0.086278740977751345"
      ]
     },
     "execution_count": 77,
     "metadata": {},
     "output_type": "execute_result"
    }
   ],
   "source": [
    "y_train[0]"
   ]
  },
  {
   "cell_type": "code",
   "execution_count": 106,
   "metadata": {},
   "outputs": [],
   "source": [
    "# x_train and y_train are lists, neet to convert them into numpy arrays to be accepted by RNN\n",
    "x_train, y_train=np.array(x_train), np.array(y_train)"
   ]
  },
  {
   "cell_type": "code",
   "execution_count": 98,
   "metadata": {},
   "outputs": [
    {
     "name": "stdout",
     "output_type": "stream",
     "text": [
      "(1198, 60)\n",
      "(1198,)\n"
     ]
    }
   ],
   "source": [
    "print (x_train.shape) # 2d\n",
    "print (y_train.shape) "
   ]
  },
  {
   "cell_type": "code",
   "execution_count": 18,
   "metadata": {},
   "outputs": [
    {
     "name": "stdout",
     "output_type": "stream",
     "text": [
      "1198\n"
     ]
    }
   ],
   "source": [
    "print(x_train.shape[0])"
   ]
  },
  {
   "cell_type": "code",
   "execution_count": 107,
   "metadata": {},
   "outputs": [],
   "source": [
    "# use the reshape function to add a dimension into a numpy array\n",
    "# do this to x-train because it contains the input of the NN\n",
    "# (x_train.shape[0],x_train.shape[1],1)=(batch size, time step,indictor)\n",
    "x_train = np.reshape(x_train,(x_train.shape[0],x_train.shape[1],1))"
   ]
  },
  {
   "cell_type": "code",
   "execution_count": 100,
   "metadata": {},
   "outputs": [
    {
     "name": "stdout",
     "output_type": "stream",
     "text": [
      "(1198, 60, 1)\n"
     ]
    }
   ],
   "source": [
    "print (x_train.shape) # 3d"
   ]
  },
  {
   "cell_type": "code",
   "execution_count": null,
   "metadata": {},
   "outputs": [],
   "source": []
  },
  {
   "cell_type": "markdown",
   "metadata": {},
   "source": [
    "# Build the RNN"
   ]
  },
  {
   "cell_type": "code",
   "execution_count": 109,
   "metadata": {},
   "outputs": [],
   "source": [
    "import keras\n",
    "from keras.models import Sequential # allow us to create a neural network object representing a sequence of layers\n",
    "from keras.layers import Dense # to add the output layer\n",
    "from keras.layers import LSTM # add the lstm layer\n",
    "from keras.layers import Dropout # to add some dropout regularlization(avoid over-fitting)"
   ]
  },
  {
   "cell_type": "code",
   "execution_count": 110,
   "metadata": {},
   "outputs": [],
   "source": [
    "# initilizing the RNN\n",
    "regressor = Sequential() # RNN is for regression"
   ]
  },
  {
   "cell_type": "code",
   "execution_count": 111,
   "metadata": {},
   "outputs": [],
   "source": [
    "# add the 1st lstm layer with some droput regularization\n",
    "\n",
    "# units=number of neuron in the each lstm layer 50 is large enough for a high dimesionality\n",
    "# return_sequence = true means to add another layer after previous one. (stack lstm network)\n",
    "\n",
    "# rate=percent of neuron need to drop out(.2*50=10). 10 neurons will be ignore durinbg the training that is in the \n",
    "# forward and back propagation happening in each iteration of the training\n",
    "\n",
    "regressor.add(LSTM(units=50,return_sequences=True, input_shape = (x_train.shape[1],1)))\n",
    "regressor.add(Dropout(rate=0.2))"
   ]
  },
  {
   "cell_type": "code",
   "execution_count": 112,
   "metadata": {},
   "outputs": [
    {
     "data": {
      "text/plain": [
       "(60, 1)"
      ]
     },
     "execution_count": 112,
     "metadata": {},
     "output_type": "execute_result"
    }
   ],
   "source": [
    "x_train.shape[1],1"
   ]
  },
  {
   "cell_type": "code",
   "execution_count": 113,
   "metadata": {},
   "outputs": [],
   "source": [
    "# 2nd lstm layer with some droput regularization\n",
    "regressor.add(LSTM(units=50,return_sequences=True))# only need the input shape in the begining (knows there are 50 neuron from the first layer)\n",
    "regressor.add(Dropout(rate=0.2))"
   ]
  },
  {
   "cell_type": "code",
   "execution_count": 114,
   "metadata": {},
   "outputs": [],
   "source": [
    "# 3rd lstm layer with some droput regularization\n",
    "regressor.add(LSTM(units=50,return_sequences=True)) \n",
    "regressor.add(Dropout(rate=0.2))"
   ]
  },
  {
   "cell_type": "code",
   "execution_count": 115,
   "metadata": {},
   "outputs": [],
   "source": [
    "# 4th lstm layer with some droput regularization\n",
    "regressor.add(LSTM(units=50,return_sequences=False)) # dont need to return any more sequences\n",
    "regressor.add(Dropout(rate=0.2))"
   ]
  },
  {
   "cell_type": "code",
   "execution_count": 116,
   "metadata": {},
   "outputs": [],
   "source": [
    "# output layer\n",
    "# use the dense function to make a fully connection\n",
    "# units =1 because a specific stock price\n",
    "regressor.add(Dense(units=1, ))"
   ]
  },
  {
   "cell_type": "code",
   "execution_count": 117,
   "metadata": {},
   "outputs": [],
   "source": [
    "# compiling the RNN\n",
    "\n",
    "# loss is not binary here because this is a regression problem.\n",
    "regressor.compile(optimizer='adam', loss='mean_squared_error')"
   ]
  },
  {
   "cell_type": "code",
   "execution_count": 48,
   "metadata": {},
   "outputs": [
    {
     "name": "stdout",
     "output_type": "stream",
     "text": [
      "Epoch 1/100\n",
      "1198/1198 [==============================] - 19s 16ms/step - loss: 0.0028\n",
      "Epoch 2/100\n",
      "1198/1198 [==============================] - 18s 15ms/step - loss: 0.0030\n",
      "Epoch 3/100\n",
      "1198/1198 [==============================] - 19s 16ms/step - loss: 0.0030\n",
      "Epoch 4/100\n",
      "1198/1198 [==============================] - 19s 16ms/step - loss: 0.0029\n",
      "Epoch 5/100\n",
      "1198/1198 [==============================] - 19s 16ms/step - loss: 0.0028\n",
      "Epoch 6/100\n",
      "1198/1198 [==============================] - 19s 16ms/step - loss: 0.0026\n",
      "Epoch 7/100\n",
      "1198/1198 [==============================] - 20s 17ms/step - loss: 0.0023\n",
      "Epoch 8/100\n",
      "1198/1198 [==============================] - 19s 16ms/step - loss: 0.0027\n",
      "Epoch 9/100\n",
      "1198/1198 [==============================] - 20s 16ms/step - loss: 0.0028\n",
      "Epoch 10/100\n",
      "1198/1198 [==============================] - 19s 16ms/step - loss: 0.0024\n",
      "Epoch 11/100\n",
      "1198/1198 [==============================] - 20s 17ms/step - loss: 0.0022\n",
      "Epoch 12/100\n",
      "1198/1198 [==============================] - 21s 17ms/step - loss: 0.0024\n",
      "Epoch 13/100\n",
      "1198/1198 [==============================] - 19s 16ms/step - loss: 0.0024\n",
      "Epoch 14/100\n",
      "1198/1198 [==============================] - 21s 17ms/step - loss: 0.0025\n",
      "Epoch 15/100\n",
      "1198/1198 [==============================] - 21s 17ms/step - loss: 0.0026\n",
      "Epoch 16/100\n",
      "1198/1198 [==============================] - 19s 16ms/step - loss: 0.0026\n",
      "Epoch 17/100\n",
      "1198/1198 [==============================] - 20s 17ms/step - loss: 0.0022\n",
      "Epoch 18/100\n",
      "1198/1198 [==============================] - 20s 17ms/step - loss: 0.0024\n",
      "Epoch 19/100\n",
      "1198/1198 [==============================] - 19s 16ms/step - loss: 0.0022\n",
      "Epoch 20/100\n",
      "1198/1198 [==============================] - 19s 16ms/step - loss: 0.0021\n",
      "Epoch 21/100\n",
      "1198/1198 [==============================] - 19s 16ms/step - loss: 0.0023\n",
      "Epoch 22/100\n",
      "1198/1198 [==============================] - 19s 16ms/step - loss: 0.0022\n",
      "Epoch 23/100\n",
      "1198/1198 [==============================] - 20s 17ms/step - loss: 0.0023\n",
      "Epoch 24/100\n",
      "1198/1198 [==============================] - 21s 18ms/step - loss: 0.0020\n",
      "Epoch 25/100\n",
      "1198/1198 [==============================] - 18s 15ms/step - loss: 0.0023\n",
      "Epoch 26/100\n",
      "1198/1198 [==============================] - 18s 15ms/step - loss: 0.0020\n",
      "Epoch 27/100\n",
      "1198/1198 [==============================] - 19s 16ms/step - loss: 0.0028\n",
      "Epoch 28/100\n",
      "1198/1198 [==============================] - 18s 15ms/step - loss: 0.0021\n",
      "Epoch 29/100\n",
      "1198/1198 [==============================] - 18s 15ms/step - loss: 0.0020\n",
      "Epoch 30/100\n",
      "1198/1198 [==============================] - 20s 17ms/step - loss: 0.0020\n",
      "Epoch 31/100\n",
      "1198/1198 [==============================] - 18s 15ms/step - loss: 0.0024\n",
      "Epoch 32/100\n",
      "1198/1198 [==============================] - 18s 15ms/step - loss: 0.0020\n",
      "Epoch 33/100\n",
      "1198/1198 [==============================] - 19s 16ms/step - loss: 0.0020\n",
      "Epoch 34/100\n",
      "1198/1198 [==============================] - 20s 17ms/step - loss: 0.0021\n",
      "Epoch 35/100\n",
      "1198/1198 [==============================] - 20s 17ms/step - loss: 0.0019\n",
      "Epoch 36/100\n",
      "1198/1198 [==============================] - 18s 15ms/step - loss: 0.0018\n",
      "Epoch 37/100\n",
      "1198/1198 [==============================] - 19s 16ms/step - loss: 0.0019\n",
      "Epoch 38/100\n",
      "1198/1198 [==============================] - 20s 17ms/step - loss: 0.0017\n",
      "Epoch 39/100\n",
      "1198/1198 [==============================] - 20s 17ms/step - loss: 0.0020\n",
      "Epoch 40/100\n",
      "1198/1198 [==============================] - 20s 16ms/step - loss: 0.0019\n",
      "Epoch 41/100\n",
      "1198/1198 [==============================] - 21s 17ms/step - loss: 0.0020\n",
      "Epoch 42/100\n",
      "1198/1198 [==============================] - 19s 16ms/step - loss: 0.0018\n",
      "Epoch 43/100\n",
      "1198/1198 [==============================] - 20s 16ms/step - loss: 0.0018\n",
      "Epoch 44/100\n",
      "1198/1198 [==============================] - 19s 16ms/step - loss: 0.0018\n",
      "Epoch 45/100\n",
      "1198/1198 [==============================] - 20s 17ms/step - loss: 0.0017\n",
      "Epoch 46/100\n",
      "1198/1198 [==============================] - 20s 17ms/step - loss: 0.0016\n",
      "Epoch 47/100\n",
      "1198/1198 [==============================] - 22s 18ms/step - loss: 0.0018\n",
      "Epoch 48/100\n",
      "1198/1198 [==============================] - 20s 17ms/step - loss: 0.0018\n",
      "Epoch 49/100\n",
      "1198/1198 [==============================] - 21s 17ms/step - loss: 0.0016\n",
      "Epoch 50/100\n",
      "1198/1198 [==============================] - 20s 16ms/step - loss: 0.0015\n",
      "Epoch 51/100\n",
      "1198/1198 [==============================] - 20s 17ms/step - loss: 0.0016\n",
      "Epoch 52/100\n",
      "1198/1198 [==============================] - 19s 16ms/step - loss: 0.0016\n",
      "Epoch 53/100\n",
      "1198/1198 [==============================] - 21s 17ms/step - loss: 0.0018\n",
      "Epoch 54/100\n",
      "1198/1198 [==============================] - 20s 17ms/step - loss: 0.0015\n",
      "Epoch 55/100\n",
      "1198/1198 [==============================] - 20s 17ms/step - loss: 0.0014\n",
      "Epoch 56/100\n",
      "1198/1198 [==============================] - 19s 16ms/step - loss: 0.0015\n",
      "Epoch 57/100\n",
      "1198/1198 [==============================] - 19s 16ms/step - loss: 0.0015\n",
      "Epoch 58/100\n",
      "1198/1198 [==============================] - 19s 16ms/step - loss: 0.0015\n",
      "Epoch 59/100\n",
      "1198/1198 [==============================] - 20s 16ms/step - loss: 0.0015\n",
      "Epoch 60/100\n",
      "1198/1198 [==============================] - 22s 18ms/step - loss: 0.0016\n",
      "Epoch 61/100\n",
      "1198/1198 [==============================] - 19s 16ms/step - loss: 0.0013\n",
      "Epoch 62/100\n",
      "1198/1198 [==============================] - 18s 15ms/step - loss: 0.0014\n",
      "Epoch 63/100\n",
      "1198/1198 [==============================] - 20s 17ms/step - loss: 0.0013\n",
      "Epoch 64/100\n",
      "1198/1198 [==============================] - 19s 16ms/step - loss: 0.0014\n",
      "Epoch 65/100\n",
      "1198/1198 [==============================] - 19s 16ms/step - loss: 0.0013\n",
      "Epoch 66/100\n",
      "1198/1198 [==============================] - 20s 16ms/step - loss: 0.0015\n",
      "Epoch 67/100\n",
      "1198/1198 [==============================] - 19s 16ms/step - loss: 0.0014\n",
      "Epoch 68/100\n",
      "1198/1198 [==============================] - 19s 16ms/step - loss: 0.0014\n",
      "Epoch 69/100\n",
      "1198/1198 [==============================] - 19s 16ms/step - loss: 0.0015\n",
      "Epoch 70/100\n",
      "1198/1198 [==============================] - 19s 16ms/step - loss: 0.0015\n",
      "Epoch 71/100\n",
      "1198/1198 [==============================] - 18s 15ms/step - loss: 0.0013\n",
      "Epoch 72/100\n",
      "1198/1198 [==============================] - 20s 16ms/step - loss: 0.0014\n",
      "Epoch 73/100\n",
      "1198/1198 [==============================] - 19s 16ms/step - loss: 0.0014\n",
      "Epoch 74/100\n",
      "1198/1198 [==============================] - 19s 16ms/step - loss: 0.0014\n",
      "Epoch 75/100\n",
      "1198/1198 [==============================] - 19s 16ms/step - loss: 0.0014\n",
      "Epoch 76/100\n",
      "1198/1198 [==============================] - 20s 17ms/step - loss: 0.0015\n",
      "Epoch 77/100\n",
      "1198/1198 [==============================] - 20s 17ms/step - loss: 0.0013\n",
      "Epoch 78/100\n",
      "1198/1198 [==============================] - 19s 16ms/step - loss: 0.0013\n",
      "Epoch 79/100\n",
      "1198/1198 [==============================] - 19s 16ms/step - loss: 0.0014\n",
      "Epoch 80/100\n",
      "1198/1198 [==============================] - 19s 15ms/step - loss: 0.0013\n",
      "Epoch 81/100\n",
      "1198/1198 [==============================] - 19s 16ms/step - loss: 0.0013\n",
      "Epoch 82/100\n",
      "1198/1198 [==============================] - 19s 16ms/step - loss: 0.0014\n",
      "Epoch 83/100\n",
      "1198/1198 [==============================] - 19s 16ms/step - loss: 0.0015\n",
      "Epoch 84/100\n",
      "1198/1198 [==============================] - 20s 17ms/step - loss: 0.0013\n",
      "Epoch 85/100\n",
      "1198/1198 [==============================] - 20s 16ms/step - loss: 0.0013\n",
      "Epoch 86/100\n",
      "1198/1198 [==============================] - 19s 16ms/step - loss: 0.0013\n",
      "Epoch 87/100\n",
      "1198/1198 [==============================] - 18s 15ms/step - loss: 0.0013\n",
      "Epoch 88/100\n",
      "1198/1198 [==============================] - 19s 16ms/step - loss: 0.0013\n",
      "Epoch 89/100\n",
      "1198/1198 [==============================] - 20s 16ms/step - loss: 0.0015\n",
      "Epoch 90/100\n",
      "1198/1198 [==============================] - 19s 16ms/step - loss: 0.0014\n",
      "Epoch 91/100\n",
      "1198/1198 [==============================] - 20s 17ms/step - loss: 0.0012\n",
      "Epoch 92/100\n",
      "1198/1198 [==============================] - 21s 17ms/step - loss: 0.0012\n",
      "Epoch 93/100\n",
      "1198/1198 [==============================] - 19s 16ms/step - loss: 0.0015\n",
      "Epoch 94/100\n",
      "1198/1198 [==============================] - 20s 17ms/step - loss: 0.0015\n",
      "Epoch 95/100\n",
      "1198/1198 [==============================] - 21s 17ms/step - loss: 0.0012\n",
      "Epoch 96/100\n",
      "1198/1198 [==============================] - 18s 15ms/step - loss: 0.0013\n",
      "Epoch 97/100\n",
      "1198/1198 [==============================] - 19s 16ms/step - loss: 0.0013\n",
      "Epoch 98/100\n",
      "1198/1198 [==============================] - 20s 16ms/step - loss: 0.0011\n",
      "Epoch 99/100\n",
      "1198/1198 [==============================] - 19s 16ms/step - loss: 0.0013\n",
      "Epoch 100/100\n",
      "1198/1198 [==============================] - 18s 15ms/step - loss: 0.0013\n"
     ]
    },
    {
     "data": {
      "text/plain": [
       "<keras.callbacks.History at 0x10ee207f0>"
      ]
     },
     "execution_count": 48,
     "metadata": {},
     "output_type": "execute_result"
    }
   ],
   "source": [
    "# fit the model to the training set\n",
    "\n",
    "# 100 is better but 10 is ok just for practice. (dont want to kill my laptop too much)\n",
    "# batch size : update the weights  every 32 times being forward probagation into the neural network then generating \n",
    "# an arror and then back propagation into the neural network\n",
    "regressor.fit(x_train, y_train, batch_size=32, epochs=100)\n",
    "\n",
    "#32/1198 then 64/1198 and so on\n",
    "\n",
    "# x_train = data for stock price. y train is the stock price after every 60 price in x train\n",
    "# 60 stock price to predict one"
   ]
  },
  {
   "cell_type": "code",
   "execution_count": null,
   "metadata": {},
   "outputs": [],
   "source": []
  },
  {
   "cell_type": "markdown",
   "metadata": {},
   "source": [
    "# prediction"
   ]
  },
  {
   "cell_type": "code",
   "execution_count": null,
   "metadata": {},
   "outputs": [],
   "source": [
    "# predict the price in 2017 and compare it to actual data\n",
    "# if the data is in the same file, use train test split"
   ]
  },
  {
   "cell_type": "code",
   "execution_count": 33,
   "metadata": {},
   "outputs": [],
   "source": [
    "df_test = pd.read_csv('Google_Stock_Price_Test.csv')\n",
    "Real_stock_price = df_test.iloc[:,1:2].values"
   ]
  },
  {
   "cell_type": "code",
   "execution_count": 34,
   "metadata": {},
   "outputs": [],
   "source": [
    "# combine the training set and the test set\n",
    "\n",
    "# len(total_dataset)-len(df_test) = first day in jan of 2017\n",
    "# -60 = need to 60 days stock price before 1st jan 2017\n",
    "\n",
    "total_dataset = pd.concat((df_train['Open'], df_test['Open']),axis = 0 )\n",
    "inputs = total_dataset[len(total_dataset)-len(df_test) - 60:].values # all price in 2017 and last 60 days in 2016"
   ]
  },
  {
   "cell_type": "code",
   "execution_count": 35,
   "metadata": {},
   "outputs": [
    {
     "name": "stdout",
     "output_type": "stream",
     "text": [
      "[ 779.    779.66  777.71  786.66  783.76  781.22  781.65  779.8   787.85\n",
      "  798.24  803.3   795.    804.9   816.68  806.34  801.    808.35  795.47\n",
      "  782.89  778.2   767.25  750.66  774.5   783.4   779.94  791.17  756.54\n",
      "  755.6   746.97  755.2   766.92  771.37  762.61  772.63  767.73  764.26\n",
      "  760.    771.53  770.07  757.44  744.59  757.71  764.73  761.    772.48\n",
      "  780.    785.04  793.9   797.4   797.34  800.4   790.22  796.76  795.84\n",
      "  792.36  790.9   790.68  793.7   783.33  782.75  778.81  788.36  786.08\n",
      "  795.26  806.4   807.86  805.    807.14  807.48  807.08  805.81  805.12\n",
      "  806.91  807.25  822.3   829.62  837.81  834.71  814.66  796.86]\n",
      "15    829.62\n",
      "16    837.81\n",
      "17    834.71\n",
      "18    814.66\n",
      "19    796.86\n",
      "Name: Open, dtype: float64\n"
     ]
    }
   ],
   "source": [
    "print (inputs)\n",
    "print(df_test['Open'].tail())"
   ]
  },
  {
   "cell_type": "code",
   "execution_count": 36,
   "metadata": {},
   "outputs": [
    {
     "data": {
      "text/plain": [
       "(80,)"
      ]
     },
     "execution_count": 36,
     "metadata": {},
     "output_type": "execute_result"
    }
   ],
   "source": [
    "inputs.shape # 1d"
   ]
  },
  {
   "cell_type": "code",
   "execution_count": null,
   "metadata": {},
   "outputs": [],
   "source": [
    "# the data need to be in 3d to fit into the model"
   ]
  },
  {
   "cell_type": "code",
   "execution_count": 37,
   "metadata": {},
   "outputs": [
    {
     "data": {
      "text/plain": [
       "(80, 1)"
      ]
     },
     "execution_count": 37,
     "metadata": {},
     "output_type": "execute_result"
    }
   ],
   "source": [
    "inputs = inputs.reshape(-1,1)\n",
    "inputs.shape # 2d"
   ]
  },
  {
   "cell_type": "code",
   "execution_count": 38,
   "metadata": {},
   "outputs": [],
   "source": [
    "inputs = sc.fit_transform(inputs)"
   ]
  },
  {
   "cell_type": "code",
   "execution_count": 39,
   "metadata": {},
   "outputs": [],
   "source": [
    "x_test = []\n",
    "for i in range (60,80):\n",
    "    x_test.append(inputs[i-60:i,0]) # the first one: inputs[0:60,0] then 1:61\n",
    "x_test=np.array(x_test)"
   ]
  },
  {
   "cell_type": "code",
   "execution_count": 40,
   "metadata": {},
   "outputs": [
    {
     "data": {
      "text/plain": [
       "(20, 60, 1)"
      ]
     },
     "execution_count": 40,
     "metadata": {},
     "output_type": "execute_result"
    }
   ],
   "source": [
    "x_test = np.reshape(x_test,(x_test.shape[0],x_test.shape[1],1))\n",
    "x_test.shape # 3d"
   ]
  },
  {
   "cell_type": "code",
   "execution_count": 50,
   "metadata": {},
   "outputs": [
    {
     "data": {
      "text/plain": [
       "(20, 1)"
      ]
     },
     "execution_count": 50,
     "metadata": {},
     "output_type": "execute_result"
    }
   ],
   "source": [
    "# now the data is ready to be used in the model\n",
    "pred_stock_price = regressor.predict(x_test)\n",
    "pred_stock_price.shape"
   ]
  },
  {
   "cell_type": "code",
   "execution_count": 51,
   "metadata": {},
   "outputs": [],
   "source": [
    "pred_stock_price = sc.inverse_transform(pred_stock_price) # reverse the transform data"
   ]
  },
  {
   "cell_type": "code",
   "execution_count": 52,
   "metadata": {},
   "outputs": [
    {
     "data": {
      "text/plain": [
       "array([[ 785.91369629],\n",
       "       [ 782.50323486],\n",
       "       [ 783.28930664],\n",
       "       [ 785.50842285],\n",
       "       [ 790.11181641],\n",
       "       [ 798.32330322],\n",
       "       [ 804.64367676],\n",
       "       [ 805.35693359],\n",
       "       [ 804.68322754],\n",
       "       [ 804.59014893],\n",
       "       [ 804.99621582],\n",
       "       [ 805.05853271],\n",
       "       [ 804.78778076],\n",
       "       [ 805.37768555],\n",
       "       [ 806.33917236],\n",
       "       [ 813.58001709],\n",
       "       [ 823.33483887],\n",
       "       [ 831.59094238],\n",
       "       [ 831.9465332 ],\n",
       "       [ 821.3458252 ]], dtype=float32)"
      ]
     },
     "execution_count": 52,
     "metadata": {},
     "output_type": "execute_result"
    }
   ],
   "source": [
    "pred_stock_price"
   ]
  },
  {
   "cell_type": "markdown",
   "metadata": {},
   "source": [
    "# visualization"
   ]
  },
  {
   "cell_type": "code",
   "execution_count": null,
   "metadata": {},
   "outputs": [],
   "source": []
  },
  {
   "cell_type": "code",
   "execution_count": null,
   "metadata": {},
   "outputs": [],
   "source": [
    "# epoches = 10"
   ]
  },
  {
   "cell_type": "code",
   "execution_count": 123,
   "metadata": {},
   "outputs": [
    {
     "data": {
      "text/plain": [
       "<matplotlib.legend.Legend at 0x1a2adb1f28>"
      ]
     },
     "execution_count": 123,
     "metadata": {},
     "output_type": "execute_result"
    },
    {
     "data": {
      "image/png": "[encoded data removed]",
      "text/plain": [
       "<matplotlib.figure.Figure at 0x1a2c076fd0>"
      ]
     },
     "metadata": {},
     "output_type": "display_data"
    }
   ],
   "source": [
    "plt.plot(Real_stock_price,color='red', label='Real')\n",
    "plt.plot(pred_stock_price,color='green',label='Predicted')\n",
    "plt.title('Googgle stock price prediction')\n",
    "plt.xlabel('Time')\n",
    "plt.ylabel('Price')\n",
    "plt.legend()"
   ]
  },
  {
   "cell_type": "code",
   "execution_count": 127,
   "metadata": {},
   "outputs": [
    {
     "name": "stdout",
     "output_type": "stream",
     "text": [
      "0.143296783923\n"
     ]
    },
    {
     "data": {
      "text/plain": [
       "<matplotlib.collections.PathCollection at 0x1a2bef5ef0>"
      ]
     },
     "execution_count": 127,
     "metadata": {},
     "output_type": "execute_result"
    },
    {
     "data": {
      "image/png": "[encoded data removed]",
      "text/plain": [
       "<matplotlib.figure.Figure at 0x1a2bffce80>"
      ]
     },
     "metadata": {},
     "output_type": "display_data"
    }
   ],
   "source": [
    "# R^2\n",
    "from sklearn import metrics\n",
    "print (metrics.r2_score(Real_stock_price, pred_stock_price))\n",
    "\n",
    "# residual\n",
    "plt.scatter(pred_stock_price,Real_stock_price-pred_stock_price)"
   ]
  },
  {
   "cell_type": "code",
   "execution_count": null,
   "metadata": {},
   "outputs": [],
   "source": [
    "# R^2 is bad, and residual plot shows a pattern\n",
    "# need to set a higher epoches"
   ]
  },
  {
   "cell_type": "code",
   "execution_count": null,
   "metadata": {},
   "outputs": [],
   "source": []
  },
  {
   "cell_type": "code",
   "execution_count": null,
   "metadata": {},
   "outputs": [],
   "source": [
    "# epoches = 30"
   ]
  },
  {
   "cell_type": "code",
   "execution_count": 44,
   "metadata": {},
   "outputs": [
    {
     "data": {
      "text/plain": [
       "<matplotlib.legend.Legend at 0x1a282292b0>"
      ]
     },
     "execution_count": 44,
     "metadata": {},
     "output_type": "execute_result"
    },
    {
     "data": {
      "image/png": "[encoded data removed]",
      "text/plain": [
       "<matplotlib.figure.Figure at 0x1a281aad68>"
      ]
     },
     "metadata": {},
     "output_type": "display_data"
    }
   ],
   "source": [
    "plt.plot(Real_stock_price,color='red', label='Real')\n",
    "plt.plot(pred_stock_price,color='green',label='Predicted')\n",
    "plt.title('Googgle stock price prediction')\n",
    "plt.xlabel('Time')\n",
    "plt.ylabel('Price')\n",
    "plt.legend()"
   ]
  },
  {
   "cell_type": "code",
   "execution_count": 47,
   "metadata": {},
   "outputs": [
    {
     "name": "stdout",
     "output_type": "stream",
     "text": [
      "-0.0732959862594\n"
     ]
    },
    {
     "data": {
      "text/plain": [
       "<matplotlib.collections.PathCollection at 0x1a24ce4fd0>"
      ]
     },
     "execution_count": 47,
     "metadata": {},
     "output_type": "execute_result"
    },
    {
     "data": {
      "image/png": "[encoded data removed]",
      "text/plain": [
       "<matplotlib.figure.Figure at 0x10ee195c0>"
      ]
     },
     "metadata": {},
     "output_type": "display_data"
    }
   ],
   "source": [
    "# R^2\n",
    "from sklearn import metrics\n",
    "print (metrics.r2_score(Real_stock_price, pred_stock_price))\n",
    "# negative only when the chosen model does not follow the trend of the data\n",
    "\n",
    "# residual\n",
    "plt.scatter(pred_stock_price,Real_stock_price-pred_stock_price)"
   ]
  },
  {
   "cell_type": "code",
   "execution_count": null,
   "metadata": {},
   "outputs": [],
   "source": []
  },
  {
   "cell_type": "code",
   "execution_count": 49,
   "metadata": {},
   "outputs": [],
   "source": [
    "# 100 epoches"
   ]
  },
  {
   "cell_type": "code",
   "execution_count": 53,
   "metadata": {},
   "outputs": [
    {
     "data": {
      "text/plain": [
       "<matplotlib.legend.Legend at 0x1a25156c50>"
      ]
     },
     "execution_count": 53,
     "metadata": {},
     "output_type": "execute_result"
    },
    {
     "data": {
      "image/png": "[encoded data removed]",
      "text/plain": [
       "<matplotlib.figure.Figure at 0x10ee192e8>"
      ]
     },
     "metadata": {},
     "output_type": "display_data"
    }
   ],
   "source": [
    "plt.plot(Real_stock_price,color='red', label='Real')\n",
    "plt.plot(pred_stock_price,color='green',label='Predicted')\n",
    "plt.title('Googgle stock price prediction')\n",
    "plt.xlabel('Time')\n",
    "plt.ylabel('Price')\n",
    "plt.legend()"
   ]
  },
  {
   "cell_type": "code",
   "execution_count": 54,
   "metadata": {},
   "outputs": [
    {
     "name": "stdout",
     "output_type": "stream",
     "text": [
      "0.493978750115\n"
     ]
    },
    {
     "data": {
      "text/plain": [
       "<matplotlib.collections.PathCollection at 0x1a249b8e10>"
      ]
     },
     "execution_count": 54,
     "metadata": {},
     "output_type": "execute_result"
    },
    {
     "data": {
      "image/png": "[encoded data removed]",
      "text/plain": [
       "<matplotlib.figure.Figure at 0x1a24955dd8>"
      ]
     },
     "metadata": {},
     "output_type": "display_data"
    }
   ],
   "source": [
    "# R^2\n",
    "from sklearn import metrics\n",
    "print (metrics.r2_score(Real_stock_price, pred_stock_price))\n",
    "\n",
    "# residual\n",
    "plt.scatter(pred_stock_price,Real_stock_price-pred_stock_price)"
   ]
  },
  {
   "cell_type": "code",
   "execution_count": null,
   "metadata": {},
   "outputs": [],
   "source": [
    "# better but still room to improve"
   ]
  },
  {
   "cell_type": "code",
   "execution_count": null,
   "metadata": {},
   "outputs": [],
   "source": []
  }
 ],
 "metadata": {
  "kernelspec": {
   "display_name": "Python 3",
   "language": "python",
   "name": "python3"
  },
  "language_info": {
   "codemirror_mode": {
    "name": "ipython",
    "version": 3
   },
   "file_extension": ".py",
   "mimetype": "text/x-python",
   "name": "python",
   "nbconvert_exporter": "python",
   "pygments_lexer": "ipython3",
   "version": "3.6.4"
  }
 },
 "nbformat": 4,
 "nbformat_minor": 2
}
